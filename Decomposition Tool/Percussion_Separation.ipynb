{
  "nbformat": 4,
  "nbformat_minor": 0,
  "metadata": {
    "colab": {
      "name": "Percussion Separation.ipynb",
      "provenance": [],
      "collapsed_sections": [],
      "toc_visible": true
    },
    "kernelspec": {
      "name": "python3",
      "display_name": "Python 3"
    }
  },
  "cells": [
    {
      "cell_type": "code",
      "metadata": {
        "id": "s--RgAhlgxEO"
      },
      "source": [
        "%matplotlib inline\n",
        "import matplotlib.pyplot as plt\n",
        "import IPython.display as ipd\n",
        "import librosa.display\n",
        "import numpy as np \n",
        "import scipy\n",
        "import librosa"
      ],
      "execution_count": 1,
      "outputs": []
    },
    {
      "cell_type": "code",
      "metadata": {
        "id": "9R1CICl1hKn5"
      },
      "source": [
        "pop_file = \"/content/pop song.mp3\"\n",
        "jazz_file = \"/content/jazz song.mp3\"\n",
        "rap_file = \"/content/rap song.mp3\""
      ],
      "execution_count": 2,
      "outputs": []
    },
    {
      "cell_type": "code",
      "metadata": {
        "id": "kSHHoeVVhwBU"
      },
      "source": [
        "ipd.Audio(pop_file)"
      ],
      "execution_count": null,
      "outputs": []
    },
    {
      "cell_type": "code",
      "metadata": {
        "id": "0SrYqV_9h7-a"
      },
      "source": [
        "ipd.Audio(jazz_file)"
      ],
      "execution_count": null,
      "outputs": []
    },
    {
      "cell_type": "code",
      "metadata": {
        "id": "fZ4OgaPGh_fy"
      },
      "source": [
        "ipd.Audio(rap_file)"
      ],
      "execution_count": null,
      "outputs": []
    },
    {
      "cell_type": "code",
      "metadata": {
        "id": "GqMPGhFwiTqM"
      },
      "source": [
        "pop, sr = librosa.load(pop_file)\n",
        "jazz, sr = librosa.load(jazz_file)\n",
        "rap, sr = librosa.load(rap_file)"
      ],
      "execution_count": 3,
      "outputs": []
    },
    {
      "cell_type": "code",
      "metadata": {
        "id": "j7fmjuSRnNpd"
      },
      "source": [
        "FRAME_SIZE = 2048\n",
        "HOP_SIZE = 512"
      ],
      "execution_count": 7,
      "outputs": []
    },
    {
      "cell_type": "markdown",
      "metadata": {
        "id": "NF0AbWJWnp_i"
      },
      "source": [
        "Extract STFT"
      ]
    },
    {
      "cell_type": "code",
      "metadata": {
        "id": "Cxgjz_n7naty"
      },
      "source": [
        "S_pop = librosa.stft(pop, n_fft=FRAME_SIZE, hop_length=HOP_SIZE)\n",
        "S_jazz = librosa.stft(jazz, n_fft=FRAME_SIZE, hop_length=HOP_SIZE)\n",
        "S_rap = librosa.stft(rap, n_fft=FRAME_SIZE, hop_length=HOP_SIZE)"
      ],
      "execution_count": 8,
      "outputs": []
    },
    {
      "cell_type": "markdown",
      "metadata": {
        "id": "0AdorI-5oTka"
      },
      "source": [
        "Calculate Spectogram"
      ]
    },
    {
      "cell_type": "code",
      "metadata": {
        "id": "T9caqjRYoSt_"
      },
      "source": [
        "Y_pop = librosa.power_to_db(np.abs(S_pop)**2)\n",
        "Y_jazz = librosa.power_to_db(np.abs(S_jazz)**2)\n",
        "Y_rap = librosa.power_to_db(np.abs(S_rap)**2)"
      ],
      "execution_count": 9,
      "outputs": []
    },
    {
      "cell_type": "markdown",
      "metadata": {
        "id": "ptZDGBf2o1AG"
      },
      "source": [
        "Display spectogram"
      ]
    },
    {
      "cell_type": "code",
      "metadata": {
        "id": "exiWRQO9n5-A"
      },
      "source": [
        "plt.figure(figsize=(12, 8))\n",
        "\n",
        "plt.subplot(3, 1, 1)\n",
        "librosa.display.specshow(Y_pop, y_axis='log')\n",
        "plt.colorbar(format=\"%+2.f\")\n",
        "plt.title(\"Pop song Spectogram\"))\n",
        "\n",
        "plt.subplot(3, 1, 2)\n",
        "librosa.display.specshow(d_harmonic1, y_axis='log')\n",
        "plt.colorbar(format=\"%+2.f\")\n",
        "plt.title(\"Jazz song Spectogram\")\n",
        "\n",
        "plt.subplot(3, 1, 3)\n",
        "librosa.display.specshow(d_percussive1, y_axis='log', x_axis='time')\n",
        "plt.colorbar(format=\"%+2.f\")\n",
        "plt.title(\"Rap song Spectogram\")\n",
        "plt.tight_layout()"
      ],
      "execution_count": null,
      "outputs": []
    },
    {
      "cell_type": "markdown",
      "metadata": {
        "id": "rpgngltZtJFb"
      },
      "source": [
        "#Percussion and Harmonic separation"
      ]
    },
    {
      "cell_type": "markdown",
      "metadata": {
        "id": "o4dDxtjVxvsm"
      },
      "source": [
        "pop song separation"
      ]
    },
    {
      "cell_type": "code",
      "metadata": {
        "id": "LDj6nwJqszrN"
      },
      "source": [
        "# Decompose d into harmonic and percussive components * d = dharmonic + dpercussive *\n",
        "d_harmonic1, d_percussive1 = librosa.decompose.hpss(S_pop, margin=4.0)\n",
        "P_harm = librosa.power_to_db(np.abs(d_harmonic1)**2)\n",
        "P_perc = librosa.power_to_db(np.abs(d_percussive1)**2)"
      ],
      "execution_count": 10,
      "outputs": []
    },
    {
      "cell_type": "code",
      "metadata": {
        "id": "T4TzQ6Ymt5jF"
      },
      "source": [
        "plt.figure(figsize=(12, 8))\n",
        "\n",
        "plt.subplot(3, 1, 1)\n",
        "librosa.display.specshow(Y_pop, y_axis='log')\n",
        "plt.colorbar(format=\"%+2.f\")\n",
        "plt.title('Full spectrogram')\n",
        "\n",
        "plt.subplot(3, 1, 2)\n",
        "librosa.display.specshow(P_harm, y_axis='log')\n",
        "plt.colorbar(format=\"%+2.f\")\n",
        "plt.title('Harmonic spectrogram')\n",
        "\n",
        "plt.subplot(3, 1, 3)\n",
        "librosa.display.specshow(P_perc, y_axis='log', x_axis='time')\n",
        "plt.colorbar(format=\"%+2.f\")\n",
        "plt.title('Percussive spectrogram')\n",
        "plt.tight_layout()"
      ],
      "execution_count": null,
      "outputs": []
    },
    {
      "cell_type": "markdown",
      "metadata": {
        "id": "UF4mVxSrx0XM"
      },
      "source": [
        "jazz song separation"
      ]
    },
    {
      "cell_type": "code",
      "metadata": {
        "id": "ojaudbOux4Es"
      },
      "source": [
        "# Decompose d into harmonic and percussive components * d = dharmonic + dpercussive *\n",
        "d_harmonic2, d_percussive2 = librosa.decompose.hpss(S_jazz, margin=4.0)\n",
        "J_harm = librosa.power_to_db(np.abs(d_harmonic1)**2)\n",
        "J_perc = librosa.power_to_db(np.abs(d_percussive1)**2)"
      ],
      "execution_count": 12,
      "outputs": []
    },
    {
      "cell_type": "code",
      "metadata": {
        "id": "jiTOyFs4yCoE"
      },
      "source": [
        "plt.figure(figsize=(12, 8))\n",
        "\n",
        "plt.subplot(3, 1, 1)\n",
        "librosa.display.specshow(Y_jazz, y_axis='log')\n",
        "plt.colorbar(format=\"%+2.f\")\n",
        "plt.title('Full spectrogram')\n",
        "\n",
        "plt.subplot(3, 1, 2)\n",
        "librosa.display.specshow(J_harm, y_axis='log')\n",
        "plt.colorbar(format=\"%+2.f\")\n",
        "plt.title('Harmonic spectrogram')\n",
        "\n",
        "plt.subplot(3, 1, 3)\n",
        "librosa.display.specshow(J_perc, y_axis='log', x_axis='time')\n",
        "plt.colorbar(format=\"%+2.f\")\n",
        "plt.title('Percussive spectrogram')\n",
        "plt.tight_layout()"
      ],
      "execution_count": null,
      "outputs": []
    },
    {
      "cell_type": "markdown",
      "metadata": {
        "id": "TRiHu_5NBWbQ"
      },
      "source": [
        "Inverted STFT to listen to the separate parts"
      ]
    },
    {
      "cell_type": "code",
      "metadata": {
        "id": "2dDIAdVK-LMZ"
      },
      "source": [
        "#R = D - (d_harmonic+d_percussive)\n",
        "out_harmonic1 = librosa.core.istft(d_harmonic1)\n",
        "out_percussive1 = librosa.core.istft(d_percussive1)\n",
        "out_harmonic2 = librosa.core.istft(d_harmonic2)\n",
        "out_percussive2 = librosa.core.istft(d_percussive2)\n",
        "#y_resi = librosa.core.istft(R)"
      ],
      "execution_count": null,
      "outputs": []
    },
    {
      "cell_type": "markdown",
      "metadata": {
        "id": "VGRJ0BawCAAe"
      },
      "source": [
        "#output of pop song"
      ]
    },
    {
      "cell_type": "markdown",
      "metadata": {
        "id": "1JyuLxecCFYG"
      },
      "source": [
        "output harmonic"
      ]
    },
    {
      "cell_type": "code",
      "metadata": {
        "id": "yp3SqUzT-z_i"
      },
      "source": [
        "ipd.Audio(data=out_harmonic1, rate=sr)"
      ],
      "execution_count": null,
      "outputs": []
    },
    {
      "cell_type": "markdown",
      "metadata": {
        "id": "WP8dz72gCIUm"
      },
      "source": [
        "output percussion"
      ]
    },
    {
      "cell_type": "code",
      "metadata": {
        "id": "TNgDI2Bg_teG"
      },
      "source": [
        "ipd.Audio(data=out_percussive1, rate=sr)"
      ],
      "execution_count": null,
      "outputs": []
    },
    {
      "cell_type": "markdown",
      "metadata": {
        "id": "-mihotheCLd2"
      },
      "source": [
        "#output of Jazz song"
      ]
    },
    {
      "cell_type": "markdown",
      "metadata": {
        "id": "BK9X9m18CRp-"
      },
      "source": [
        "output harmonic"
      ]
    },
    {
      "cell_type": "code",
      "metadata": {
        "id": "ZML7__fvB379"
      },
      "source": [
        "ipd.Audio(data=out_harmonic2, rate=sr)"
      ],
      "execution_count": null,
      "outputs": []
    },
    {
      "cell_type": "markdown",
      "metadata": {
        "id": "MIcGvmBcCSHP"
      },
      "source": [
        "output percussion"
      ]
    },
    {
      "cell_type": "code",
      "metadata": {
        "id": "xYCafrK-B4nI"
      },
      "source": [
        "ipd.Audio(data=out_percussive2, rate=sr)"
      ],
      "execution_count": null,
      "outputs": []
    }
  ]
}
